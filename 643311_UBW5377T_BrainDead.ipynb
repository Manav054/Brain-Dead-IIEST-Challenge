{
  "nbformat": 4,
  "nbformat_minor": 0,
  "metadata": {
    "colab": {
      "provenance": []
    },
    "kernelspec": {
      "name": "python3",
      "display_name": "Python 3"
    },
    "language_info": {
      "name": "python"
    },
    "accelerator": "GPU",
    "gpuClass": "standard"
  },
  "cells": [
    {
      "cell_type": "code",
      "execution_count": null,
      "metadata": {
        "id": "YxOOlpmDCcPj"
      },
      "outputs": [],
      "source": [
        "import os\n",
        "import numpy as np\n",
        "import torch\n",
        "import glob\n",
        "import torch.nn as nn\n",
        "from torchvision.transforms import transforms\n",
        "from torch.utils.data import DataLoader\n",
        "from torch.optim import Adam\n",
        "from torch.autograd import Variable\n",
        "import torchvision\n",
        "import pathlib"
      ]
    },
    {
      "cell_type": "code",
      "source": [
        "device=torch.device('cuda' if torch.cuda.is_available() else 'cpu')"
      ],
      "metadata": {
        "id": "FgkDvXDdCwiE"
      },
      "execution_count": null,
      "outputs": []
    },
    {
      "cell_type": "code",
      "source": [
        "print(device)"
      ],
      "metadata": {
        "colab": {
          "base_uri": "https://localhost:8080/"
        },
        "id": "ZdgzrtlnC7e9",
        "outputId": "631a92a4-b343-480b-ffdd-7dca5b5add2f"
      },
      "execution_count": null,
      "outputs": [
        {
          "output_type": "stream",
          "name": "stdout",
          "text": [
            "cuda\n"
          ]
        }
      ]
    },
    {
      "cell_type": "code",
      "source": [
        "transformer = transforms.Compose([\n",
        "    transforms.Resize((256, 256)),\n",
        "    transforms.RandomHorizontalFlip(p=0.5),\n",
        "    transforms.RandomVerticalFlip(p=0.5),\n",
        "    transforms.ColorJitter(),\n",
        "    transforms.ToTensor(),\n",
        "    transforms.Normalize([0.485, 0.456, 0.406],\n",
        "                          [0.229, 0.224, 0.225]) \n",
        "])"
      ],
      "metadata": {
        "id": "R05OKKKBC-A1"
      },
      "execution_count": null,
      "outputs": []
    },
    {
      "cell_type": "code",
      "source": [
        "from google.colab import drive\n",
        "drive.mount('/content/drive')"
      ],
      "metadata": {
        "colab": {
          "base_uri": "https://localhost:8080/"
        },
        "id": "L7aC2k7wChFW",
        "outputId": "85b936ea-77ff-4420-c9b2-bc88c6fc7d07"
      },
      "execution_count": null,
      "outputs": [
        {
          "output_type": "stream",
          "name": "stdout",
          "text": [
            "Drive already mounted at /content/drive; to attempt to forcibly remount, call drive.mount(\"/content/drive\", force_remount=True).\n"
          ]
        }
      ]
    },
    {
      "cell_type": "code",
      "source": [
        "train_path=\"/content/drive/MyDrive/BrainDead_Combined/Train\"\n",
        "test_path=\"/content/drive/MyDrive/BrainDead_Combined/Test\"\n",
        " \n",
        "train_loader = DataLoader(\n",
        "     torchvision.datasets.ImageFolder(train_path,transform = transformer),\n",
        "     batch_size = 128, shuffle = True\n",
        " )\n",
        "\n",
        " \n",
        "test_loader = DataLoader(\n",
        "     torchvision.datasets.ImageFolder(test_path,transform = transformer),\n",
        "     batch_size = 128, shuffle = True\n",
        " )"
      ],
      "metadata": {
        "id": "9zJXp9HREMLa"
      },
      "execution_count": null,
      "outputs": []
    },
    {
      "cell_type": "code",
      "source": [
        "root = pathlib.Path(train_path)\n",
        "classes = sorted([j.name.split('/')[-1]for j in root.iterdir()])"
      ],
      "metadata": {
        "id": "eDefjp6UKWuf"
      },
      "execution_count": null,
      "outputs": []
    },
    {
      "cell_type": "code",
      "source": [
        "print(classes)"
      ],
      "metadata": {
        "colab": {
          "base_uri": "https://localhost:8080/"
        },
        "id": "1rcQJVhfKoHw",
        "outputId": "f642fdb5-0ee7-4b2c-fcc4-78d3f1b0ce85"
      },
      "execution_count": null,
      "outputs": [
        {
          "output_type": "stream",
          "name": "stdout",
          "text": [
            "['angry', 'happy', 'neutral', 'sad']\n"
          ]
        }
      ]
    },
    {
      "cell_type": "code",
      "source": [
        "class ConvNet(nn.Module):\n",
        "  def __init__(self, num_classes = 5):\n",
        "    super(ConvNet,self).__init__()\n",
        "\n",
        "    #First Conv block\n",
        "    self.conv1 = nn.Conv2d(in_channels=3,out_channels=16, kernel_size=3, stride=1,padding=1)\n",
        "    self.bn1 = nn.BatchNorm2d(num_features=16)\n",
        "    self.relu1 = nn.ReLU()\n",
        "    self.pool1 = nn.MaxPool2d(kernel_size=2)\n",
        "\n",
        "    #Second Conv Block\n",
        "    self.conv2 = nn.Conv2d(in_channels=16,out_channels=32, kernel_size=3, stride=1,padding=1)\n",
        "    self.bn2 = nn.BatchNorm2d(num_features=32)\n",
        "    self.relu2 = nn.ReLU()\n",
        "    self.pool2 = nn.MaxPool2d(kernel_size=2)\n",
        "\n",
        "    self.conv3 = nn.Conv2d(in_channels=32, out_channels=64, kernel_size=3, stride=1,padding=1)\n",
        "    self.bn3 = nn.BatchNorm2d(num_features=64)\n",
        "    self.relu3 = nn.ReLU()\n",
        "    self.pool3 = nn.MaxPool2d(kernel_size=2)\n",
        "\n",
        "    self.conv4 = nn.Conv2d(in_channels=64, out_channels=128, kernel_size=1, stride=1,padding=1)\n",
        "    self.bn4 = nn.BatchNorm2d(num_features=128)\n",
        "    self.relu4 = nn.ReLU()\n",
        "    self.pool4 = nn.MaxPool2d(kernel_size=2)\n",
        "\n",
        "    self.fc=nn.Linear(in_features = 128*17*17 ,out_features=256)\n",
        "\n",
        "    self.fc1=nn.Linear(in_features = 256 ,out_features=num_classes)\n",
        "\n",
        "  def forward(self,input):\n",
        "    output=self.conv1(input)\n",
        "    output=self.bn1(output)\n",
        "    output=self.relu1(output)\n",
        "    output=self.pool1(output)\n",
        "\n",
        "    output=self.conv2(output)\n",
        "    output=self.bn2(output)\n",
        "    output=self.relu2(output)\n",
        "    output=self.pool2(output)\n",
        "    \n",
        "    output=self.conv3(output)\n",
        "    output=self.bn3(output)\n",
        "    output=self.relu3(output)\n",
        "    output=self.pool3(output)\n",
        "\n",
        "    output=self.conv4(output)\n",
        "    output=self.bn4(output)\n",
        "    output=self.relu4(output)\n",
        "    output=self.pool4(output)\n",
        "\n",
        "    output=output.view(-1,128*17*17)\n",
        "\n",
        "    output=self.fc(output)\n",
        "    output=self.fc1(output)\n",
        "    return output"
      ],
      "metadata": {
        "id": "WGkf6nP6KqIf"
      },
      "execution_count": null,
      "outputs": []
    },
    {
      "cell_type": "code",
      "source": [
        "model = ConvNet(num_classes=4).to(device)"
      ],
      "metadata": {
        "id": "YnSx77zrP6f9"
      },
      "execution_count": null,
      "outputs": []
    },
    {
      "cell_type": "code",
      "source": [
        "optimizer = Adam(model.parameters(), lr=2*0.00001, weight_decay=0.0001)\n",
        "loss_function = nn.CrossEntropyLoss()"
      ],
      "metadata": {
        "id": "iyu9SuvgQHV6"
      },
      "execution_count": null,
      "outputs": []
    },
    {
      "cell_type": "code",
      "source": [
        "num_epochs = 100"
      ],
      "metadata": {
        "id": "6AaYjk3FQTBm"
      },
      "execution_count": null,
      "outputs": []
    },
    {
      "cell_type": "code",
      "source": [
        "train_count = len(glob.glob(train_path+'/**/*.png'))\n",
        "test_count = len(glob.glob(test_path+'/**/*.png'))"
      ],
      "metadata": {
        "id": "cVKcUZwCQVqM"
      },
      "execution_count": null,
      "outputs": []
    },
    {
      "cell_type": "code",
      "source": [
        "print(train_count, test_count)"
      ],
      "metadata": {
        "colab": {
          "base_uri": "https://localhost:8080/"
        },
        "id": "sIwQD0xKQhtG",
        "outputId": "c4dc602e-69da-4d3a-8ba8-64f95a594377"
      },
      "execution_count": null,
      "outputs": [
        {
          "output_type": "stream",
          "name": "stdout",
          "text": [
            "2289 589\n"
          ]
        }
      ]
    },
    {
      "cell_type": "code",
      "source": [
        "from tqdm import tqdm as tqdm\n",
        "\n",
        "best_accuracy = 0.0\n",
        "\n",
        "for epoch in tqdm(range(num_epochs)) :\n",
        "\n",
        "  model.train()\n",
        "  train_accuracy=0.0\n",
        "  train_loss = 0.0\n",
        "\n",
        "  for i, (images,labels) in enumerate(train_loader):  \n",
        "    if torch.cuda.is_available():\n",
        "      images= Variable(images.cuda())\n",
        "      labels = Variable(labels.cuda())\n",
        "\n",
        "    optimizer.zero_grad()\n",
        "    outputs = model(images)\n",
        "    loss = loss_function(outputs,labels)\n",
        "    loss.backward()\n",
        "    optimizer.step()\n",
        "\n",
        "    train_loss+=loss.cpu().data*images.size(0)\n",
        "    _,prediction = torch.max(outputs.data,1)\n",
        "\n",
        "    train_accuracy+=int(torch.sum(prediction==labels.data))\n",
        "\n",
        "  train_accuracy = train_accuracy/train_count\n",
        "  train_loss = train_loss/train_count\n",
        "\n",
        "  model.eval()\n",
        "\n",
        "  test_accuracy=0.0\n",
        "  for i, (images,labels) in enumerate(test_loader):  \n",
        "    if torch.cuda.is_available():\n",
        "      images= Variable(images.cuda())\n",
        "      labels = Variable(labels.cuda())\n",
        "\n",
        "    outputs = model(images)\n",
        "    _,prediction=torch.max(outputs.data,1)\n",
        "    test_accuracy+=int(torch.sum(prediction==labels.data))\n",
        "\n",
        "  test_accuracy = test_accuracy/test_count\n",
        "  print(\"\\n\")\n",
        "  print('Epoch: '+str(epoch)+' Train Loss: '+str(int(train_loss))+' Train Accuracy: '+str(train_accuracy)+' Test Accuracy: '+str(test_accuracy))\n",
        "  if test_accuracy>best_accuracy:\n",
        "    torch.save(model.state_dict(),'best_checkpoint.model')\n",
        "    best_accuracy = test_accuracy\n"
      ],
      "metadata": {
        "colab": {
          "base_uri": "https://localhost:8080/"
        },
        "id": "fvZvq-CuQl3G",
        "outputId": "b961dab0-8af1-4685-f443-9d428c0ecdc7"
      },
      "execution_count": null,
      "outputs": [
        {
          "output_type": "stream",
          "name": "stderr",
          "text": [
            "  1%|          | 1/100 [02:15<3:43:56, 135.72s/it]"
          ]
        },
        {
          "output_type": "stream",
          "name": "stdout",
          "text": [
            "\n",
            "\n",
            "Epoch: 0 Train Loss: 1 Train Accuracy: 0.35561380515508956 Test Accuracy: 0.28183361629881154\n"
          ]
        },
        {
          "output_type": "stream",
          "name": "stderr",
          "text": [
            "\r  2%|▏         | 2/100 [02:43<1:58:05, 72.30s/it] "
          ]
        },
        {
          "output_type": "stream",
          "name": "stdout",
          "text": [
            "\n",
            "\n",
            "Epoch: 1 Train Loss: 1 Train Accuracy: 0.48623853211009177 Test Accuracy: 0.3938879456706282\n"
          ]
        },
        {
          "output_type": "stream",
          "name": "stderr",
          "text": [
            "\r  3%|▎         | 3/100 [03:11<1:24:19, 52.16s/it]"
          ]
        },
        {
          "output_type": "stream",
          "name": "stdout",
          "text": [
            "\n",
            "\n",
            "Epoch: 2 Train Loss: 1 Train Accuracy: 0.5513324595893403 Test Accuracy: 0.4091680814940577\n"
          ]
        },
        {
          "output_type": "stream",
          "name": "stderr",
          "text": [
            "\r  4%|▍         | 4/100 [03:44<1:11:02, 44.41s/it]"
          ]
        },
        {
          "output_type": "stream",
          "name": "stdout",
          "text": [
            "\n",
            "\n",
            "Epoch: 3 Train Loss: 0 Train Accuracy: 0.6020096111839232 Test Accuracy: 0.4397283531409168\n"
          ]
        },
        {
          "output_type": "stream",
          "name": "stderr",
          "text": [
            "\r  5%|▌         | 5/100 [04:13<1:01:36, 38.91s/it]"
          ]
        },
        {
          "output_type": "stream",
          "name": "stdout",
          "text": [
            "\n",
            "\n",
            "Epoch: 4 Train Loss: 0 Train Accuracy: 0.6373962429008301 Test Accuracy: 0.42784380305602715\n"
          ]
        },
        {
          "output_type": "stream",
          "name": "stderr",
          "text": [
            "\r  6%|▌         | 6/100 [04:42<55:26, 35.39s/it]  "
          ]
        },
        {
          "output_type": "stream",
          "name": "stdout",
          "text": [
            "\n",
            "\n",
            "Epoch: 5 Train Loss: 0 Train Accuracy: 0.6404543468763653 Test Accuracy: 0.4855687606112054\n"
          ]
        },
        {
          "output_type": "stream",
          "name": "stderr",
          "text": [
            "\r  7%|▋         | 7/100 [05:09<50:55, 32.85s/it]"
          ]
        },
        {
          "output_type": "stream",
          "name": "stdout",
          "text": [
            "\n",
            "\n",
            "Epoch: 6 Train Loss: 0 Train Accuracy: 0.6640454346876365 Test Accuracy: 0.4838709677419355\n"
          ]
        },
        {
          "output_type": "stream",
          "name": "stderr",
          "text": [
            "\r  8%|▊         | 8/100 [05:37<47:53, 31.23s/it]"
          ]
        },
        {
          "output_type": "stream",
          "name": "stdout",
          "text": [
            "\n",
            "\n",
            "Epoch: 7 Train Loss: 0 Train Accuracy: 0.7155963302752294 Test Accuracy: 0.499151103565365\n"
          ]
        },
        {
          "output_type": "stream",
          "name": "stderr",
          "text": [
            "\r  9%|▉         | 9/100 [06:04<45:23, 29.93s/it]"
          ]
        },
        {
          "output_type": "stream",
          "name": "stdout",
          "text": [
            "\n",
            "\n",
            "Epoch: 8 Train Loss: 0 Train Accuracy: 0.72782874617737 Test Accuracy: 0.5144312393887945\n"
          ]
        },
        {
          "output_type": "stream",
          "name": "stderr",
          "text": [
            "\r 10%|█         | 10/100 [06:32<43:50, 29.23s/it]"
          ]
        },
        {
          "output_type": "stream",
          "name": "stdout",
          "text": [
            "\n",
            "\n",
            "Epoch: 9 Train Loss: 0 Train Accuracy: 0.746177370030581 Test Accuracy: 0.5432937181663837\n"
          ]
        },
        {
          "output_type": "stream",
          "name": "stderr",
          "text": [
            "\r 11%|█         | 11/100 [06:59<42:35, 28.72s/it]"
          ]
        },
        {
          "output_type": "stream",
          "name": "stdout",
          "text": [
            "\n",
            "\n",
            "Epoch: 10 Train Loss: 0 Train Accuracy: 0.7527304499781564 Test Accuracy: 0.5500848896434635\n"
          ]
        },
        {
          "output_type": "stream",
          "name": "stderr",
          "text": [
            "\r 12%|█▏        | 12/100 [07:27<41:31, 28.31s/it]"
          ]
        },
        {
          "output_type": "stream",
          "name": "stdout",
          "text": [
            "\n",
            "\n",
            "Epoch: 11 Train Loss: 0 Train Accuracy: 0.7841852337265182 Test Accuracy: 0.5874363327674024\n"
          ]
        },
        {
          "output_type": "stream",
          "name": "stderr",
          "text": [
            "\r 13%|█▎        | 13/100 [07:54<40:40, 28.05s/it]"
          ]
        },
        {
          "output_type": "stream",
          "name": "stdout",
          "text": [
            "\n",
            "\n",
            "Epoch: 12 Train Loss: 0 Train Accuracy: 0.7776321537789428 Test Accuracy: 0.5636672325976231\n"
          ]
        },
        {
          "output_type": "stream",
          "name": "stderr",
          "text": [
            "\r 14%|█▍        | 14/100 [08:22<39:59, 27.90s/it]"
          ]
        },
        {
          "output_type": "stream",
          "name": "stdout",
          "text": [
            "\n",
            "\n",
            "Epoch: 13 Train Loss: 0 Train Accuracy: 0.7881170816950633 Test Accuracy: 0.5908319185059423\n"
          ]
        },
        {
          "output_type": "stream",
          "name": "stderr",
          "text": [
            "\r 15%|█▌        | 15/100 [08:49<39:13, 27.69s/it]"
          ]
        },
        {
          "output_type": "stream",
          "name": "stdout",
          "text": [
            "\n",
            "\n",
            "Epoch: 14 Train Loss: 0 Train Accuracy: 0.8038444735692443 Test Accuracy: 0.565365025466893\n"
          ]
        },
        {
          "output_type": "stream",
          "name": "stderr",
          "text": [
            "\r 16%|█▌        | 16/100 [09:17<38:46, 27.70s/it]"
          ]
        },
        {
          "output_type": "stream",
          "name": "stdout",
          "text": [
            "\n",
            "\n",
            "Epoch: 15 Train Loss: 0 Train Accuracy: 0.8016601135867191 Test Accuracy: 0.5806451612903226\n"
          ]
        },
        {
          "output_type": "stream",
          "name": "stderr",
          "text": [
            "\r 17%|█▋        | 17/100 [09:45<38:29, 27.82s/it]"
          ]
        },
        {
          "output_type": "stream",
          "name": "stdout",
          "text": [
            "\n",
            "\n",
            "Epoch: 16 Train Loss: 0 Train Accuracy: 0.8235037134119703 Test Accuracy: 0.5483870967741935\n"
          ]
        },
        {
          "output_type": "stream",
          "name": "stderr",
          "text": [
            "\r 18%|█▊        | 18/100 [10:13<38:12, 27.96s/it]"
          ]
        },
        {
          "output_type": "stream",
          "name": "stdout",
          "text": [
            "\n",
            "\n",
            "Epoch: 17 Train Loss: 0 Train Accuracy: 0.8283093053735255 Test Accuracy: 0.6281833616298812\n"
          ]
        },
        {
          "output_type": "stream",
          "name": "stderr",
          "text": [
            "\r 19%|█▉        | 19/100 [10:41<37:42, 27.93s/it]"
          ]
        },
        {
          "output_type": "stream",
          "name": "stdout",
          "text": [
            "\n",
            "\n",
            "Epoch: 18 Train Loss: 0 Train Accuracy: 0.8200087374399301 Test Accuracy: 0.6044142614601019\n"
          ]
        },
        {
          "output_type": "stream",
          "name": "stderr",
          "text": [
            "\r 20%|██        | 20/100 [11:09<37:14, 27.94s/it]"
          ]
        },
        {
          "output_type": "stream",
          "name": "stdout",
          "text": [
            "\n",
            "\n",
            "Epoch: 19 Train Loss: 0 Train Accuracy: 0.8352992573176059 Test Accuracy: 0.6061120543293718\n"
          ]
        },
        {
          "output_type": "stream",
          "name": "stderr",
          "text": [
            "\r 21%|██        | 21/100 [11:37<36:52, 28.01s/it]"
          ]
        },
        {
          "output_type": "stream",
          "name": "stdout",
          "text": [
            "\n",
            "\n",
            "Epoch: 20 Train Loss: 0 Train Accuracy: 0.8409785932721713 Test Accuracy: 0.6044142614601019\n"
          ]
        },
        {
          "output_type": "stream",
          "name": "stderr",
          "text": [
            "\r 22%|██▏       | 22/100 [12:05<36:16, 27.90s/it]"
          ]
        },
        {
          "output_type": "stream",
          "name": "stdout",
          "text": [
            "\n",
            "\n",
            "Epoch: 21 Train Loss: 0 Train Accuracy: 0.854084753167322 Test Accuracy: 0.6213921901528013\n"
          ]
        },
        {
          "output_type": "stream",
          "name": "stderr",
          "text": [
            "\r 23%|██▎       | 23/100 [12:33<35:50, 27.93s/it]"
          ]
        },
        {
          "output_type": "stream",
          "name": "stdout",
          "text": [
            "\n",
            "\n",
            "Epoch: 22 Train Loss: 0 Train Accuracy: 0.8711227610310179 Test Accuracy: 0.6451612903225806\n"
          ]
        },
        {
          "output_type": "stream",
          "name": "stderr",
          "text": [
            "\r 24%|██▍       | 24/100 [13:01<35:24, 27.95s/it]"
          ]
        },
        {
          "output_type": "stream",
          "name": "stdout",
          "text": [
            "\n",
            "\n",
            "Epoch: 23 Train Loss: 0 Train Accuracy: 0.8693752730449978 Test Accuracy: 0.6536502546689303\n"
          ]
        },
        {
          "output_type": "stream",
          "name": "stderr",
          "text": [
            "\r 25%|██▌       | 25/100 [13:28<34:55, 27.94s/it]"
          ]
        },
        {
          "output_type": "stream",
          "name": "stdout",
          "text": [
            "\n",
            "\n",
            "Epoch: 24 Train Loss: 0 Train Accuracy: 0.8768020969855832 Test Accuracy: 0.6129032258064516\n"
          ]
        },
        {
          "output_type": "stream",
          "name": "stderr",
          "text": [
            "\r 26%|██▌       | 26/100 [13:56<34:20, 27.84s/it]"
          ]
        },
        {
          "output_type": "stream",
          "name": "stdout",
          "text": [
            "\n",
            "\n",
            "Epoch: 25 Train Loss: 0 Train Accuracy: 0.8650065530799476 Test Accuracy: 0.6196943972835314\n"
          ]
        },
        {
          "output_type": "stream",
          "name": "stderr",
          "text": [
            "\r 27%|██▋       | 27/100 [14:24<33:50, 27.81s/it]"
          ]
        },
        {
          "output_type": "stream",
          "name": "stdout",
          "text": [
            "\n",
            "\n",
            "Epoch: 26 Train Loss: 0 Train Accuracy: 0.8746177370030581 Test Accuracy: 0.66723259762309\n"
          ]
        },
        {
          "output_type": "stream",
          "name": "stderr",
          "text": [
            "\r 28%|██▊       | 28/100 [14:52<33:25, 27.86s/it]"
          ]
        },
        {
          "output_type": "stream",
          "name": "stdout",
          "text": [
            "\n",
            "\n",
            "Epoch: 27 Train Loss: 0 Train Accuracy: 0.8894713848842289 Test Accuracy: 0.634974533106961\n"
          ]
        },
        {
          "output_type": "stream",
          "name": "stderr",
          "text": [
            "\r 29%|██▉       | 29/100 [15:19<32:51, 27.77s/it]"
          ]
        },
        {
          "output_type": "stream",
          "name": "stdout",
          "text": [
            "\n",
            "\n",
            "Epoch: 28 Train Loss: 0 Train Accuracy: 0.8938401048492791 Test Accuracy: 0.634974533106961\n"
          ]
        },
        {
          "output_type": "stream",
          "name": "stderr",
          "text": [
            "\r 30%|███       | 30/100 [15:47<32:17, 27.68s/it]"
          ]
        },
        {
          "output_type": "stream",
          "name": "stdout",
          "text": [
            "\n",
            "\n",
            "Epoch: 29 Train Loss: 0 Train Accuracy: 0.8934032328527741 Test Accuracy: 0.6095076400679117\n"
          ]
        },
        {
          "output_type": "stream",
          "name": "stderr",
          "text": [
            "\r 31%|███       | 31/100 [16:14<31:47, 27.64s/it]"
          ]
        },
        {
          "output_type": "stream",
          "name": "stdout",
          "text": [
            "\n",
            "\n",
            "Epoch: 30 Train Loss: 0 Train Accuracy: 0.9030144167758847 Test Accuracy: 0.6604414261460102\n"
          ]
        },
        {
          "output_type": "stream",
          "name": "stderr",
          "text": [
            "\r 32%|███▏      | 32/100 [16:42<31:19, 27.63s/it]"
          ]
        },
        {
          "output_type": "stream",
          "name": "stdout",
          "text": [
            "\n",
            "\n",
            "Epoch: 31 Train Loss: 0 Train Accuracy: 0.9034512887723897 Test Accuracy: 0.634974533106961\n"
          ]
        },
        {
          "output_type": "stream",
          "name": "stderr",
          "text": [
            "\r 33%|███▎      | 33/100 [17:10<30:50, 27.61s/it]"
          ]
        },
        {
          "output_type": "stream",
          "name": "stdout",
          "text": [
            "\n",
            "\n",
            "Epoch: 32 Train Loss: 0 Train Accuracy: 0.9025775447793797 Test Accuracy: 0.6621392190152802\n"
          ]
        },
        {
          "output_type": "stream",
          "name": "stderr",
          "text": [
            "\r 34%|███▍      | 34/100 [17:37<30:20, 27.58s/it]"
          ]
        },
        {
          "output_type": "stream",
          "name": "stdout",
          "text": [
            "\n",
            "\n",
            "Epoch: 33 Train Loss: 0 Train Accuracy: 0.9143730886850153 Test Accuracy: 0.6621392190152802\n"
          ]
        },
        {
          "output_type": "stream",
          "name": "stderr",
          "text": [
            "\r 35%|███▌      | 35/100 [18:05<29:53, 27.59s/it]"
          ]
        },
        {
          "output_type": "stream",
          "name": "stdout",
          "text": [
            "\n",
            "\n",
            "Epoch: 34 Train Loss: 0 Train Accuracy: 0.9161205766710354 Test Accuracy: 0.6366723259762309\n"
          ]
        },
        {
          "output_type": "stream",
          "name": "stderr",
          "text": [
            "\r 36%|███▌      | 36/100 [18:33<29:31, 27.68s/it]"
          ]
        },
        {
          "output_type": "stream",
          "name": "stdout",
          "text": [
            "\n",
            "\n",
            "Epoch: 35 Train Loss: 0 Train Accuracy: 0.908256880733945 Test Accuracy: 0.633276740237691\n"
          ]
        },
        {
          "output_type": "stream",
          "name": "stderr",
          "text": [
            "\r 37%|███▋      | 37/100 [19:00<28:59, 27.61s/it]"
          ]
        },
        {
          "output_type": "stream",
          "name": "stdout",
          "text": [
            "\n",
            "\n",
            "Epoch: 36 Train Loss: 0 Train Accuracy: 0.9148099606815203 Test Accuracy: 0.6621392190152802\n"
          ]
        },
        {
          "output_type": "stream",
          "name": "stderr",
          "text": [
            "\r 38%|███▊      | 38/100 [19:27<28:28, 27.56s/it]"
          ]
        },
        {
          "output_type": "stream",
          "name": "stdout",
          "text": [
            "\n",
            "\n",
            "Epoch: 37 Train Loss: 0 Train Accuracy: 0.9314110965487112 Test Accuracy: 0.6468590831918506\n"
          ]
        },
        {
          "output_type": "stream",
          "name": "stderr",
          "text": [
            "\r 39%|███▉      | 39/100 [19:55<28:01, 27.57s/it]"
          ]
        },
        {
          "output_type": "stream",
          "name": "stdout",
          "text": [
            "\n",
            "\n",
            "Epoch: 38 Train Loss: 0 Train Accuracy: 0.9174311926605505 Test Accuracy: 0.634974533106961\n"
          ]
        },
        {
          "output_type": "stream",
          "name": "stderr",
          "text": [
            "\r 40%|████      | 40/100 [20:22<27:30, 27.50s/it]"
          ]
        },
        {
          "output_type": "stream",
          "name": "stdout",
          "text": [
            "\n",
            "\n",
            "Epoch: 39 Train Loss: 0 Train Accuracy: 0.9335954565312363 Test Accuracy: 0.6502546689303905\n"
          ]
        },
        {
          "output_type": "stream",
          "name": "stderr",
          "text": [
            "\r 41%|████      | 41/100 [20:50<26:59, 27.45s/it]"
          ]
        },
        {
          "output_type": "stream",
          "name": "stdout",
          "text": [
            "\n",
            "\n",
            "Epoch: 40 Train Loss: 0 Train Accuracy: 0.9340323285277413 Test Accuracy: 0.6587436332767402\n"
          ]
        },
        {
          "output_type": "stream",
          "name": "stderr",
          "text": [
            "\r 42%|████▏     | 42/100 [21:17<26:37, 27.53s/it]"
          ]
        },
        {
          "output_type": "stream",
          "name": "stdout",
          "text": [
            "\n",
            "\n",
            "Epoch: 41 Train Loss: 0 Train Accuracy: 0.9392747924858017 Test Accuracy: 0.6757215619694398\n"
          ]
        },
        {
          "output_type": "stream",
          "name": "stderr",
          "text": [
            "\r 43%|████▎     | 43/100 [21:45<26:07, 27.51s/it]"
          ]
        },
        {
          "output_type": "stream",
          "name": "stdout",
          "text": [
            "\n",
            "\n",
            "Epoch: 42 Train Loss: 0 Train Accuracy: 0.9379641764962866 Test Accuracy: 0.634974533106961\n"
          ]
        },
        {
          "output_type": "stream",
          "name": "stderr",
          "text": [
            "\r 44%|████▍     | 44/100 [22:12<25:39, 27.49s/it]"
          ]
        },
        {
          "output_type": "stream",
          "name": "stdout",
          "text": [
            "\n",
            "\n",
            "Epoch: 43 Train Loss: 0 Train Accuracy: 0.9322848405417212 Test Accuracy: 0.66723259762309\n"
          ]
        },
        {
          "output_type": "stream",
          "name": "stderr",
          "text": [
            "\r 45%|████▌     | 45/100 [22:40<25:12, 27.50s/it]"
          ]
        },
        {
          "output_type": "stream",
          "name": "stdout",
          "text": [
            "\n",
            "\n",
            "Epoch: 44 Train Loss: 0 Train Accuracy: 0.9161205766710354 Test Accuracy: 0.6621392190152802\n"
          ]
        },
        {
          "output_type": "stream",
          "name": "stderr",
          "text": [
            "\r 46%|████▌     | 46/100 [23:07<24:43, 27.48s/it]"
          ]
        },
        {
          "output_type": "stream",
          "name": "stdout",
          "text": [
            "\n",
            "\n",
            "Epoch: 45 Train Loss: 0 Train Accuracy: 0.9414591524683268 Test Accuracy: 0.66553480475382\n"
          ]
        },
        {
          "output_type": "stream",
          "name": "stderr",
          "text": [
            "\r 47%|████▋     | 47/100 [23:35<24:17, 27.51s/it]"
          ]
        },
        {
          "output_type": "stream",
          "name": "stdout",
          "text": [
            "\n",
            "\n",
            "Epoch: 46 Train Loss: 0 Train Accuracy: 0.944517256443862 Test Accuracy: 0.6451612903225806\n"
          ]
        },
        {
          "output_type": "stream",
          "name": "stderr",
          "text": [
            "\r 48%|████▊     | 48/100 [24:02<23:49, 27.50s/it]"
          ]
        },
        {
          "output_type": "stream",
          "name": "stdout",
          "text": [
            "\n",
            "\n",
            "Epoch: 47 Train Loss: 0 Train Accuracy: 0.9545653123634775 Test Accuracy: 0.6825127334465195\n"
          ]
        },
        {
          "output_type": "stream",
          "name": "stderr",
          "text": [
            "\r 49%|████▉     | 49/100 [24:30<23:20, 27.46s/it]"
          ]
        },
        {
          "output_type": "stream",
          "name": "stdout",
          "text": [
            "\n",
            "\n",
            "Epoch: 48 Train Loss: 0 Train Accuracy: 0.9515072083879423 Test Accuracy: 0.6893039049235993\n"
          ]
        },
        {
          "output_type": "stream",
          "name": "stderr",
          "text": [
            "\r 50%|█████     | 50/100 [24:57<22:50, 27.40s/it]"
          ]
        },
        {
          "output_type": "stream",
          "name": "stdout",
          "text": [
            "\n",
            "\n",
            "Epoch: 49 Train Loss: 0 Train Accuracy: 0.9580602883355177 Test Accuracy: 0.6723259762308998\n"
          ]
        },
        {
          "output_type": "stream",
          "name": "stderr",
          "text": [
            "\r 51%|█████     | 51/100 [25:24<22:22, 27.40s/it]"
          ]
        },
        {
          "output_type": "stream",
          "name": "stdout",
          "text": [
            "\n",
            "\n",
            "Epoch: 50 Train Loss: 0 Train Accuracy: 0.9550021843599825 Test Accuracy: 0.6825127334465195\n"
          ]
        },
        {
          "output_type": "stream",
          "name": "stderr",
          "text": [
            "\r 52%|█████▏    | 52/100 [25:52<21:52, 27.34s/it]"
          ]
        },
        {
          "output_type": "stream",
          "name": "stdout",
          "text": [
            "\n",
            "\n",
            "Epoch: 51 Train Loss: 0 Train Accuracy: 0.9663608562691132 Test Accuracy: 0.6689303904923599\n"
          ]
        },
        {
          "output_type": "stream",
          "name": "stderr",
          "text": [
            "\r 53%|█████▎    | 53/100 [26:19<21:26, 27.37s/it]"
          ]
        },
        {
          "output_type": "stream",
          "name": "stdout",
          "text": [
            "\n",
            "\n",
            "Epoch: 52 Train Loss: 0 Train Accuracy: 0.9611183923110529 Test Accuracy: 0.6876061120543294\n"
          ]
        },
        {
          "output_type": "stream",
          "name": "stderr",
          "text": [
            "\r 54%|█████▍    | 54/100 [26:46<20:59, 27.38s/it]"
          ]
        },
        {
          "output_type": "stream",
          "name": "stdout",
          "text": [
            "\n",
            "\n",
            "Epoch: 53 Train Loss: 0 Train Accuracy: 0.9641764962865881 Test Accuracy: 0.6791171477079796\n"
          ]
        },
        {
          "output_type": "stream",
          "name": "stderr",
          "text": [
            "\r 55%|█████▌    | 55/100 [27:14<20:31, 27.37s/it]"
          ]
        },
        {
          "output_type": "stream",
          "name": "stdout",
          "text": [
            "\n",
            "\n",
            "Epoch: 54 Train Loss: 0 Train Accuracy: 0.9685452162516383 Test Accuracy: 0.6859083191850595\n"
          ]
        },
        {
          "output_type": "stream",
          "name": "stderr",
          "text": [
            "\r 56%|█████▌    | 56/100 [27:41<20:03, 27.35s/it]"
          ]
        },
        {
          "output_type": "stream",
          "name": "stdout",
          "text": [
            "\n",
            "\n",
            "Epoch: 55 Train Loss: 0 Train Accuracy: 0.9541284403669725 Test Accuracy: 0.6825127334465195\n"
          ]
        },
        {
          "output_type": "stream",
          "name": "stderr",
          "text": [
            "\r 57%|█████▋    | 57/100 [28:08<19:34, 27.32s/it]"
          ]
        },
        {
          "output_type": "stream",
          "name": "stdout",
          "text": [
            "\n",
            "\n",
            "Epoch: 56 Train Loss: 0 Train Accuracy: 0.9624290083005679 Test Accuracy: 0.6842105263157895\n"
          ]
        },
        {
          "output_type": "stream",
          "name": "stderr",
          "text": [
            "\r 58%|█████▊    | 58/100 [28:36<19:09, 27.37s/it]"
          ]
        },
        {
          "output_type": "stream",
          "name": "stdout",
          "text": [
            "\n",
            "\n",
            "Epoch: 57 Train Loss: 0 Train Accuracy: 0.9689820882481432 Test Accuracy: 0.6926994906621392\n"
          ]
        },
        {
          "output_type": "stream",
          "name": "stderr",
          "text": [
            "\r 59%|█████▉    | 59/100 [29:03<18:44, 27.43s/it]"
          ]
        },
        {
          "output_type": "stream",
          "name": "stdout",
          "text": [
            "\n",
            "\n",
            "Epoch: 58 Train Loss: 0 Train Accuracy: 0.9659239842726082 Test Accuracy: 0.6825127334465195\n"
          ]
        },
        {
          "output_type": "stream",
          "name": "stderr",
          "text": [
            "\r 60%|██████    | 60/100 [29:31<18:15, 27.38s/it]"
          ]
        },
        {
          "output_type": "stream",
          "name": "stdout",
          "text": [
            "\n",
            "\n",
            "Epoch: 59 Train Loss: 0 Train Accuracy: 0.963739624290083 Test Accuracy: 0.6876061120543294\n"
          ]
        },
        {
          "output_type": "stream",
          "name": "stderr",
          "text": [
            "\r 61%|██████    | 61/100 [29:58<17:46, 27.35s/it]"
          ]
        },
        {
          "output_type": "stream",
          "name": "stdout",
          "text": [
            "\n",
            "\n",
            "Epoch: 60 Train Loss: 0 Train Accuracy: 0.9742245522062036 Test Accuracy: 0.6842105263157895\n"
          ]
        },
        {
          "output_type": "stream",
          "name": "stderr",
          "text": [
            "\r 62%|██████▏   | 62/100 [30:25<17:18, 27.33s/it]"
          ]
        },
        {
          "output_type": "stream",
          "name": "stdout",
          "text": [
            "\n",
            "\n",
            "Epoch: 61 Train Loss: 0 Train Accuracy: 0.9790301441677588 Test Accuracy: 0.6774193548387096\n"
          ]
        },
        {
          "output_type": "stream",
          "name": "stderr",
          "text": [
            "\r 63%|██████▎   | 63/100 [30:53<16:51, 27.34s/it]"
          ]
        },
        {
          "output_type": "stream",
          "name": "stdout",
          "text": [
            "\n",
            "\n",
            "Epoch: 62 Train Loss: 0 Train Accuracy: 0.9733508082131935 Test Accuracy: 0.6960950764006791\n"
          ]
        },
        {
          "output_type": "stream",
          "name": "stderr",
          "text": [
            "\r 64%|██████▍   | 64/100 [31:20<16:24, 27.34s/it]"
          ]
        },
        {
          "output_type": "stream",
          "name": "stdout",
          "text": [
            "\n",
            "\n",
            "Epoch: 63 Train Loss: 0 Train Accuracy: 0.9742245522062036 Test Accuracy: 0.6926994906621392\n"
          ]
        },
        {
          "output_type": "stream",
          "name": "stderr",
          "text": [
            "\r 65%|██████▌   | 65/100 [31:47<15:57, 27.36s/it]"
          ]
        },
        {
          "output_type": "stream",
          "name": "stdout",
          "text": [
            "\n",
            "\n",
            "Epoch: 64 Train Loss: 0 Train Accuracy: 0.9794670161642639 Test Accuracy: 0.6977928692699491\n"
          ]
        },
        {
          "output_type": "stream",
          "name": "stderr",
          "text": [
            "\r 66%|██████▌   | 66/100 [32:15<15:31, 27.39s/it]"
          ]
        },
        {
          "output_type": "stream",
          "name": "stdout",
          "text": [
            "\n",
            "\n",
            "Epoch: 65 Train Loss: 0 Train Accuracy: 0.9777195281782438 Test Accuracy: 0.7062818336162988\n"
          ]
        },
        {
          "output_type": "stream",
          "name": "stderr",
          "text": [
            "\r 67%|██████▋   | 67/100 [32:42<15:02, 27.35s/it]"
          ]
        },
        {
          "output_type": "stream",
          "name": "stdout",
          "text": [
            "\n",
            "\n",
            "Epoch: 66 Train Loss: 0 Train Accuracy: 0.9733508082131935 Test Accuracy: 0.6808149405772496\n"
          ]
        },
        {
          "output_type": "stream",
          "name": "stderr",
          "text": [
            "\r 68%|██████▊   | 68/100 [33:10<14:36, 27.40s/it]"
          ]
        },
        {
          "output_type": "stream",
          "name": "stdout",
          "text": [
            "\n",
            "\n",
            "Epoch: 67 Train Loss: 0 Train Accuracy: 0.9737876802096985 Test Accuracy: 0.6876061120543294\n"
          ]
        },
        {
          "output_type": "stream",
          "name": "stderr",
          "text": [
            "\r 69%|██████▉   | 69/100 [33:37<14:07, 27.35s/it]"
          ]
        },
        {
          "output_type": "stream",
          "name": "stdout",
          "text": [
            "\n",
            "\n",
            "Epoch: 68 Train Loss: 0 Train Accuracy: 0.9764089121887287 Test Accuracy: 0.6825127334465195\n"
          ]
        },
        {
          "output_type": "stream",
          "name": "stderr",
          "text": [
            "\r 70%|███████   | 70/100 [34:05<13:43, 27.46s/it]"
          ]
        },
        {
          "output_type": "stream",
          "name": "stdout",
          "text": [
            "\n",
            "\n",
            "Epoch: 69 Train Loss: 0 Train Accuracy: 0.9746614242027086 Test Accuracy: 0.6910016977928692\n"
          ]
        },
        {
          "output_type": "stream",
          "name": "stderr",
          "text": [
            "\r 71%|███████   | 71/100 [34:32<13:15, 27.43s/it]"
          ]
        },
        {
          "output_type": "stream",
          "name": "stdout",
          "text": [
            "\n",
            "\n",
            "Epoch: 70 Train Loss: 0 Train Accuracy: 0.982088248143294 Test Accuracy: 0.7096774193548387\n"
          ]
        },
        {
          "output_type": "stream",
          "name": "stderr",
          "text": [
            "\r 72%|███████▏  | 72/100 [34:59<12:48, 27.44s/it]"
          ]
        },
        {
          "output_type": "stream",
          "name": "stdout",
          "text": [
            "\n",
            "\n",
            "Epoch: 71 Train Loss: 0 Train Accuracy: 0.9825251201397991 Test Accuracy: 0.6943972835314092\n"
          ]
        },
        {
          "output_type": "stream",
          "name": "stderr",
          "text": [
            "\r 73%|███████▎  | 73/100 [35:27<12:19, 27.40s/it]"
          ]
        },
        {
          "output_type": "stream",
          "name": "stdout",
          "text": [
            "\n",
            "\n",
            "Epoch: 72 Train Loss: 0 Train Accuracy: 0.9803407601572739 Test Accuracy: 0.6859083191850595\n"
          ]
        },
        {
          "output_type": "stream",
          "name": "stderr",
          "text": [
            "\r 74%|███████▍  | 74/100 [35:54<11:52, 27.40s/it]"
          ]
        },
        {
          "output_type": "stream",
          "name": "stdout",
          "text": [
            "\n",
            "\n",
            "Epoch: 73 Train Loss: 0 Train Accuracy: 0.9825251201397991 Test Accuracy: 0.6876061120543294\n"
          ]
        },
        {
          "output_type": "stream",
          "name": "stderr",
          "text": [
            "\r 75%|███████▌  | 75/100 [36:22<11:26, 27.45s/it]"
          ]
        },
        {
          "output_type": "stream",
          "name": "stdout",
          "text": [
            "\n",
            "\n",
            "Epoch: 74 Train Loss: 0 Train Accuracy: 0.9833988641328091 Test Accuracy: 0.7028862478777589\n"
          ]
        },
        {
          "output_type": "stream",
          "name": "stderr",
          "text": [
            "\r 76%|███████▌  | 76/100 [36:49<10:57, 27.39s/it]"
          ]
        },
        {
          "output_type": "stream",
          "name": "stdout",
          "text": [
            "\n",
            "\n",
            "Epoch: 75 Train Loss: 0 Train Accuracy: 0.9855832241153342 Test Accuracy: 0.6808149405772496\n"
          ]
        },
        {
          "output_type": "stream",
          "name": "stderr",
          "text": [
            "\r 77%|███████▋  | 77/100 [37:16<10:29, 27.39s/it]"
          ]
        },
        {
          "output_type": "stream",
          "name": "stdout",
          "text": [
            "\n",
            "\n",
            "Epoch: 76 Train Loss: 0 Train Accuracy: 0.9829619921363041 Test Accuracy: 0.6825127334465195\n"
          ]
        },
        {
          "output_type": "stream",
          "name": "stderr",
          "text": [
            "\r 78%|███████▊  | 78/100 [37:44<10:01, 27.36s/it]"
          ]
        },
        {
          "output_type": "stream",
          "name": "stdout",
          "text": [
            "\n",
            "\n",
            "Epoch: 77 Train Loss: 0 Train Accuracy: 0.9838357361293141 Test Accuracy: 0.6926994906621392\n"
          ]
        },
        {
          "output_type": "stream",
          "name": "stderr",
          "text": [
            "\r 79%|███████▉  | 79/100 [38:11<09:34, 27.37s/it]"
          ]
        },
        {
          "output_type": "stream",
          "name": "stdout",
          "text": [
            "\n",
            "\n",
            "Epoch: 78 Train Loss: 0 Train Accuracy: 0.9825251201397991 Test Accuracy: 0.6926994906621392\n"
          ]
        },
        {
          "output_type": "stream",
          "name": "stderr",
          "text": [
            "\r 80%|████████  | 80/100 [38:38<09:07, 27.36s/it]"
          ]
        },
        {
          "output_type": "stream",
          "name": "stdout",
          "text": [
            "\n",
            "\n",
            "Epoch: 79 Train Loss: 0 Train Accuracy: 0.9882044560943644 Test Accuracy: 0.7096774193548387\n"
          ]
        },
        {
          "output_type": "stream",
          "name": "stderr",
          "text": [
            "\r 81%|████████  | 81/100 [39:06<08:41, 27.45s/it]"
          ]
        },
        {
          "output_type": "stream",
          "name": "stdout",
          "text": [
            "\n",
            "\n",
            "Epoch: 80 Train Loss: 0 Train Accuracy: 0.9851463521188292 Test Accuracy: 0.6910016977928692\n"
          ]
        },
        {
          "output_type": "stream",
          "name": "stderr",
          "text": [
            "\r 82%|████████▏ | 82/100 [39:33<08:13, 27.41s/it]"
          ]
        },
        {
          "output_type": "stream",
          "name": "stdout",
          "text": [
            "\n",
            "\n",
            "Epoch: 81 Train Loss: 0 Train Accuracy: 0.9829619921363041 Test Accuracy: 0.6977928692699491\n"
          ]
        },
        {
          "output_type": "stream",
          "name": "stderr",
          "text": [
            "\r 83%|████████▎ | 83/100 [40:01<07:45, 27.39s/it]"
          ]
        },
        {
          "output_type": "stream",
          "name": "stdout",
          "text": [
            "\n",
            "\n",
            "Epoch: 82 Train Loss: 0 Train Accuracy: 0.9847094801223242 Test Accuracy: 0.6943972835314092\n"
          ]
        },
        {
          "output_type": "stream",
          "name": "stderr",
          "text": [
            "\r 84%|████████▍ | 84/100 [40:28<07:18, 27.40s/it]"
          ]
        },
        {
          "output_type": "stream",
          "name": "stdout",
          "text": [
            "\n",
            "\n",
            "Epoch: 83 Train Loss: 0 Train Accuracy: 0.9886413280908694 Test Accuracy: 0.6994906621392191\n"
          ]
        },
        {
          "output_type": "stream",
          "name": "stderr",
          "text": [
            "\r 85%|████████▌ | 85/100 [40:55<06:50, 27.37s/it]"
          ]
        },
        {
          "output_type": "stream",
          "name": "stdout",
          "text": [
            "\n",
            "\n",
            "Epoch: 84 Train Loss: 0 Train Accuracy: 0.9903888160768894 Test Accuracy: 0.6994906621392191\n"
          ]
        },
        {
          "output_type": "stream",
          "name": "stderr",
          "text": [
            "\r 86%|████████▌ | 86/100 [41:23<06:23, 27.41s/it]"
          ]
        },
        {
          "output_type": "stream",
          "name": "stdout",
          "text": [
            "\n",
            "\n",
            "Epoch: 85 Train Loss: 0 Train Accuracy: 0.9903888160768894 Test Accuracy: 0.6910016977928692\n"
          ]
        },
        {
          "output_type": "stream",
          "name": "stderr",
          "text": [
            "\r 87%|████████▋ | 87/100 [41:50<05:56, 27.41s/it]"
          ]
        },
        {
          "output_type": "stream",
          "name": "stdout",
          "text": [
            "\n",
            "\n",
            "Epoch: 86 Train Loss: 0 Train Accuracy: 0.9921363040629095 Test Accuracy: 0.6893039049235993\n"
          ]
        },
        {
          "output_type": "stream",
          "name": "stderr",
          "text": [
            "\r 88%|████████▊ | 88/100 [42:17<05:28, 27.36s/it]"
          ]
        },
        {
          "output_type": "stream",
          "name": "stdout",
          "text": [
            "\n",
            "\n",
            "Epoch: 87 Train Loss: 0 Train Accuracy: 0.9882044560943644 Test Accuracy: 0.7045840407470289\n"
          ]
        },
        {
          "output_type": "stream",
          "name": "stderr",
          "text": [
            "\r 89%|████████▉ | 89/100 [42:45<05:01, 27.44s/it]"
          ]
        },
        {
          "output_type": "stream",
          "name": "stdout",
          "text": [
            "\n",
            "\n",
            "Epoch: 88 Train Loss: 0 Train Accuracy: 0.9825251201397991 Test Accuracy: 0.7113752122241087\n"
          ]
        },
        {
          "output_type": "stream",
          "name": "stderr",
          "text": [
            "\r 90%|█████████ | 90/100 [43:15<04:40, 28.06s/it]"
          ]
        },
        {
          "output_type": "stream",
          "name": "stdout",
          "text": [
            "\n",
            "\n",
            "Epoch: 89 Train Loss: 0 Train Accuracy: 0.9829619921363041 Test Accuracy: 0.6876061120543294\n"
          ]
        },
        {
          "output_type": "stream",
          "name": "stderr",
          "text": [
            "\r 91%|█████████ | 91/100 [43:42<04:11, 27.90s/it]"
          ]
        },
        {
          "output_type": "stream",
          "name": "stdout",
          "text": [
            "\n",
            "\n",
            "Epoch: 90 Train Loss: 0 Train Accuracy: 0.9899519440803844 Test Accuracy: 0.6910016977928692\n"
          ]
        },
        {
          "output_type": "stream",
          "name": "stderr",
          "text": [
            "\r 92%|█████████▏| 92/100 [44:10<03:43, 27.89s/it]"
          ]
        },
        {
          "output_type": "stream",
          "name": "stdout",
          "text": [
            "\n",
            "\n",
            "Epoch: 91 Train Loss: 0 Train Accuracy: 0.9895150720838795 Test Accuracy: 0.7147707979626485\n"
          ]
        },
        {
          "output_type": "stream",
          "name": "stderr",
          "text": [
            "\r 93%|█████████▎| 93/100 [44:38<03:15, 27.87s/it]"
          ]
        },
        {
          "output_type": "stream",
          "name": "stdout",
          "text": [
            "\n",
            "\n",
            "Epoch: 92 Train Loss: 0 Train Accuracy: 0.9895150720838795 Test Accuracy: 0.7096774193548387\n"
          ]
        },
        {
          "output_type": "stream",
          "name": "stderr",
          "text": [
            "\r 94%|█████████▍| 94/100 [45:05<02:46, 27.75s/it]"
          ]
        },
        {
          "output_type": "stream",
          "name": "stdout",
          "text": [
            "\n",
            "\n",
            "Epoch: 93 Train Loss: 0 Train Accuracy: 0.9903888160768894 Test Accuracy: 0.7045840407470289\n"
          ]
        },
        {
          "output_type": "stream",
          "name": "stderr",
          "text": [
            "\r 95%|█████████▌| 95/100 [45:33<02:18, 27.72s/it]"
          ]
        },
        {
          "output_type": "stream",
          "name": "stdout",
          "text": [
            "\n",
            "\n",
            "Epoch: 94 Train Loss: 0 Train Accuracy: 0.9868938401048493 Test Accuracy: 0.7079796264855688\n"
          ]
        },
        {
          "output_type": "stream",
          "name": "stderr",
          "text": [
            "\r 96%|█████████▌| 96/100 [46:00<01:50, 27.66s/it]"
          ]
        },
        {
          "output_type": "stream",
          "name": "stdout",
          "text": [
            "\n",
            "\n",
            "Epoch: 95 Train Loss: 0 Train Accuracy: 0.9908256880733946 Test Accuracy: 0.7181663837011885\n"
          ]
        },
        {
          "output_type": "stream",
          "name": "stderr",
          "text": [
            "\r 97%|█████████▋| 97/100 [46:28<01:22, 27.62s/it]"
          ]
        },
        {
          "output_type": "stream",
          "name": "stdout",
          "text": [
            "\n",
            "\n",
            "Epoch: 96 Train Loss: 0 Train Accuracy: 0.9930100480559196 Test Accuracy: 0.7079796264855688\n"
          ]
        },
        {
          "output_type": "stream",
          "name": "stderr",
          "text": [
            "\r 98%|█████████▊| 98/100 [46:55<00:55, 27.57s/it]"
          ]
        },
        {
          "output_type": "stream",
          "name": "stdout",
          "text": [
            "\n",
            "\n",
            "Epoch: 97 Train Loss: 0 Train Accuracy: 0.9899519440803844 Test Accuracy: 0.7096774193548387\n"
          ]
        },
        {
          "output_type": "stream",
          "name": "stderr",
          "text": [
            "\r 99%|█████████▉| 99/100 [47:23<00:27, 27.55s/it]"
          ]
        },
        {
          "output_type": "stream",
          "name": "stdout",
          "text": [
            "\n",
            "\n",
            "Epoch: 98 Train Loss: 0 Train Accuracy: 0.9908256880733946 Test Accuracy: 0.7164685908319185\n"
          ]
        },
        {
          "output_type": "stream",
          "name": "stderr",
          "text": [
            "100%|██████████| 100/100 [47:50<00:00, 28.71s/it]"
          ]
        },
        {
          "output_type": "stream",
          "name": "stdout",
          "text": [
            "\n",
            "\n",
            "Epoch: 99 Train Loss: 0 Train Accuracy: 0.9934469200524246 Test Accuracy: 0.7079796264855688\n"
          ]
        },
        {
          "output_type": "stream",
          "name": "stderr",
          "text": [
            "\n"
          ]
        }
      ]
    },
    {
      "cell_type": "markdown",
      "source": [
        "Epoch: 99 Train Loss: 0 Train Accuracy: 0.9823204419889503 Test Accuracy: 0.\n",
        "5745257452574526 on Original Data\n"
      ],
      "metadata": {
        "id": "hxVAUMI2nn54"
      }
    },
    {
      "cell_type": "markdown",
      "source": [
        "Epoch: 99 Train Loss: 0 Train Accuracy: 1.0 Test Accuracy: 0.590909090909091 on Synthetic only\n"
      ],
      "metadata": {
        "id": "OVyKOwxlyl-d"
      }
    },
    {
      "cell_type": "markdown",
      "source": [
        "Epoch: 95 Train Loss: 0 Train Accuracy: 0.9908256880733946 Test Accuracy: 0.7181663837011885\n",
        " 97%|█████████▋| 97/100 [46:28<01:22, 27.62s/it]\n"
      ],
      "metadata": {
        "id": "AH_SdigcIJUe"
      }
    },
    {
      "cell_type": "code",
      "source": [
        "model.to('cuda')"
      ],
      "metadata": {
        "colab": {
          "base_uri": "https://localhost:8080/"
        },
        "id": "7GqCtiQ8JKzU",
        "outputId": "c5fb5f78-0d2c-46d8-bfd8-fa88f795a506"
      },
      "execution_count": null,
      "outputs": [
        {
          "output_type": "execute_result",
          "data": {
            "text/plain": [
              "ConvNet(\n",
              "  (conv1): Conv2d(3, 16, kernel_size=(3, 3), stride=(1, 1), padding=(1, 1))\n",
              "  (bn1): BatchNorm2d(16, eps=1e-05, momentum=0.1, affine=True, track_running_stats=True)\n",
              "  (relu1): ReLU()\n",
              "  (pool1): MaxPool2d(kernel_size=2, stride=2, padding=0, dilation=1, ceil_mode=False)\n",
              "  (conv2): Conv2d(16, 32, kernel_size=(3, 3), stride=(1, 1), padding=(1, 1))\n",
              "  (bn2): BatchNorm2d(32, eps=1e-05, momentum=0.1, affine=True, track_running_stats=True)\n",
              "  (relu2): ReLU()\n",
              "  (pool2): MaxPool2d(kernel_size=2, stride=2, padding=0, dilation=1, ceil_mode=False)\n",
              "  (conv3): Conv2d(32, 64, kernel_size=(3, 3), stride=(1, 1), padding=(1, 1))\n",
              "  (bn3): BatchNorm2d(64, eps=1e-05, momentum=0.1, affine=True, track_running_stats=True)\n",
              "  (relu3): ReLU()\n",
              "  (pool3): MaxPool2d(kernel_size=2, stride=2, padding=0, dilation=1, ceil_mode=False)\n",
              "  (conv4): Conv2d(64, 128, kernel_size=(1, 1), stride=(1, 1), padding=(1, 1))\n",
              "  (bn4): BatchNorm2d(128, eps=1e-05, momentum=0.1, affine=True, track_running_stats=True)\n",
              "  (relu4): ReLU()\n",
              "  (pool4): MaxPool2d(kernel_size=2, stride=2, padding=0, dilation=1, ceil_mode=False)\n",
              "  (fc): Linear(in_features=36992, out_features=256, bias=True)\n",
              "  (fc1): Linear(in_features=256, out_features=4, bias=True)\n",
              ")"
            ]
          },
          "metadata": {},
          "execution_count": 60
        }
      ]
    },
    {
      "cell_type": "code",
      "source": [],
      "metadata": {
        "id": "_FyxUi-kJwIk"
      },
      "execution_count": null,
      "outputs": []
    }
  ]
}